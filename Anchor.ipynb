{
 "cells": [
  {
   "cell_type": "markdown",
   "metadata": {},
   "source": [
    "Base_anchors NP"
   ]
  },
  {
   "cell_type": "code",
   "execution_count": 1,
   "metadata": {},
   "outputs": [
    {
     "name": "stderr",
     "output_type": "stream",
     "text": [
      "C:\\Users\\Royce\\Anaconda3\\lib\\site-packages\\h5py\\__init__.py:36: FutureWarning: Conversion of the second argument of issubdtype from `float` to `np.floating` is deprecated. In future, it will be treated as `np.float64 == np.dtype(float).type`.\n",
      "  from ._conv import register_converters as _register_converters\n"
     ]
    }
   ],
   "source": [
    "import numpy as np\n",
    "import tensorflow as tf"
   ]
  },
  {
   "cell_type": "code",
   "execution_count": 2,
   "metadata": {},
   "outputs": [],
   "source": [
    "sess =tf.Session()"
   ]
  },
  {
   "cell_type": "code",
   "execution_count": 27,
   "metadata": {},
   "outputs": [],
   "source": [
    "def base_anchor_np(base_size, ratios, scales):\n",
    "    # 根据长宽比与缩放因子生成以中心点为原点的基准anchors\n",
    "    ratios = np.expand_dims(ratios, axis=1) # (M, 1)\n",
    "    scales = np.expand_dims(scales, axis=0) # (1, N)  \n",
    "    # 根据已有的长宽比、缩放因子矩阵，得到两两结合的基于base_size的anchors长、宽\n",
    "    h = np.sqrt(ratios) * scales * base_size\n",
    "    w = 1.0 / np.sqrt(ratios) * scales * base_size\n",
    "    # reshape为（-1，1）\n",
    "    h = np.reshape(h, (-1, 1))\n",
    "    w = np.reshape(w, (-1, 1))\n",
    "    return np.hstack([-0.5*h, -0.5*w, 0.5*h, 0.5*w])"
   ]
  },
  {
   "cell_type": "code",
   "execution_count": 28,
   "metadata": {},
   "outputs": [],
   "source": [
    "base_size = 128\n",
    "ratios =[0.5, 1, 2]\n",
    "scales = [1, 2, 4]"
   ]
  },
  {
   "cell_type": "code",
   "execution_count": 29,
   "metadata": {},
   "outputs": [],
   "source": [
    "base_anchors_np = base_anchor_np(base_size, ratios, scales)"
   ]
  },
  {
   "cell_type": "code",
   "execution_count": 30,
   "metadata": {},
   "outputs": [
    {
     "data": {
      "text/plain": [
       "array([[ -45.254834  ,  -90.50966799,   45.254834  ,   90.50966799],\n",
       "       [ -90.50966799, -181.01933598,   90.50966799,  181.01933598],\n",
       "       [-181.01933598, -362.03867197,  181.01933598,  362.03867197],\n",
       "       [ -64.        ,  -64.        ,   64.        ,   64.        ],\n",
       "       [-128.        , -128.        ,  128.        ,  128.        ],\n",
       "       [-256.        , -256.        ,  256.        ,  256.        ],\n",
       "       [ -90.50966799,  -45.254834  ,   90.50966799,   45.254834  ],\n",
       "       [-181.01933598,  -90.50966799,  181.01933598,   90.50966799],\n",
       "       [-362.03867197, -181.01933598,  362.03867197,  181.01933598]])"
      ]
     },
     "execution_count": 30,
     "metadata": {},
     "output_type": "execute_result"
    }
   ],
   "source": [
    "base_anchors_np"
   ]
  },
  {
   "cell_type": "code",
   "execution_count": 22,
   "metadata": {},
   "outputs": [
    {
     "data": {
      "image/png": "[encoded data removed]",
      "text/plain": [
       "<matplotlib.figure.Figure at 0x1aeda4dd550>"
      ]
     },
     "metadata": {
      "needs_background": "light"
     },
     "output_type": "display_data"
    }
   ],
   "source": [
    "# 创建自定义图像，可视化基本的anchors\n",
    "import matplotlib\n",
    "import matplotlib.pyplot as plt\n",
    "fig = plt.figure(figsize=(4,4))\n",
    "ax = fig.add_subplot(1, 1, 1)\n",
    "for a in base_anchors_np:\n",
    "    y1,x1,y2,x2 = [int(i)for i in a]\n",
    "    rect = matplotlib.patches.Rectangle((x1, y1),x2-x1, y2-y1, color='black',alpha=0.1)\n",
    "    ax.add_patch(rect)\n",
    "    plt.grid(True)\n",
    "    plt.xlim([-500, 500])\n",
    "    plt.ylim([-500, 500])\n",
    "plt.show()"
   ]
  },
  {
   "cell_type": "markdown",
   "metadata": {},
   "source": [
    "Base_anchors TF"
   ]
  },
  {
   "cell_type": "code",
   "execution_count": 69,
   "metadata": {},
   "outputs": [],
   "source": [
    "def base_anchors_tf(base_size, ratios, scales):\n",
    "    # 输入参数值转tensor\n",
    "    ratios = tf.constant(ratios, dtype=tf.float16)\n",
    "    scales = tf.constant(scales, dtype=tf.float16)\n",
    "    # 扩维\n",
    "    ratios = tf.expand_dims(ratios, axis=1)\n",
    "    scales = tf.expand_dims(scales, axis=0)\n",
    "    # 长、宽计算\n",
    "    h = tf.sqrt(ratios) * scales * base_size\n",
    "    w = 1.0 / tf.sqrt(ratios) * scales * base_size\n",
    "    # reshape\n",
    "    h = tf.reshape(h, (-1, 1))\n",
    "    w = tf.reshape(w, (-1, 1))\n",
    "    return tf.concat([-0.5*h, -0.5*w, 0.5*h, 0.5*w], axis=1)\n",
    "#     return tf.stack([-0.5*h, -0.5*w, 0.5*h, 0.5*w], axis=0)"
   ]
  },
  {
   "cell_type": "code",
   "execution_count": 70,
   "metadata": {},
   "outputs": [],
   "source": [
    "base_size = 128\n",
    "ratios =[0.5, 1, 2]\n",
    "scales = [1, 2, 4]\n",
    "base_anchors_tf = base_anchors_tf(base_size, ratios, scales)"
   ]
  },
  {
   "cell_type": "code",
   "execution_count": 71,
   "metadata": {},
   "outputs": [
    {
     "name": "stdout",
     "output_type": "stream",
     "text": [
      "[[ -45.25  -90.5    45.25   90.5 ]\n",
      " [ -90.5  -181.     90.5   181.  ]\n",
      " [-181.   -362.    181.    362.  ]\n",
      " [ -64.    -64.     64.     64.  ]\n",
      " [-128.   -128.    128.    128.  ]\n",
      " [-256.   -256.    256.    256.  ]\n",
      " [ -90.5   -45.25   90.5    45.25]\n",
      " [-181.    -90.5   181.     90.5 ]\n",
      " [-362.   -181.    362.    181.  ]]\n"
     ]
    }
   ],
   "source": [
    "print(sess.run(base_anchors_tf))"
   ]
  },
  {
   "cell_type": "code",
   "execution_count": 72,
   "metadata": {
    "scrolled": true
   },
   "outputs": [
    {
     "data": {
      "image/png": "[encoded data removed]",
      "text/plain": [
       "<matplotlib.figure.Figure at 0x1aedaa9e6a0>"
      ]
     },
     "metadata": {
      "needs_background": "light"
     },
     "output_type": "display_data"
    }
   ],
   "source": [
    "# 创建自定义图像，可视化基本的anchors\n",
    "import matplotlib\n",
    "import matplotlib.pyplot as plt\n",
    "fig = plt.figure(figsize=(4,4))\n",
    "ax = fig.add_subplot(1, 1, 1)\n",
    "for a in sess.run(base_anchors_tf):\n",
    "    y1,x1,y2,x2 = [int(i)for i in a]\n",
    "    rect = matplotlib.patches.Rectangle((x1, y1),x2-x1, y2-y1, color='black',alpha=0.1)\n",
    "    ax.add_patch(rect)\n",
    "    plt.grid(True)\n",
    "    plt.xlim([-500, 500])\n",
    "    plt.ylim([-500, 500])\n",
    "plt.show()"
   ]
  },
  {
   "cell_type": "markdown",
   "metadata": {},
   "source": [
    "Anchors shift NP"
   ]
  },
  {
   "cell_type": "code",
   "execution_count": null,
   "metadata": {},
   "outputs": [],
   "source": [
    "# 基准anchors滑动过程中，中心点在原图上坐标的情况\n",
    "def anchor_shift_np(base_anchor, strides, anchor_shape):\n",
    "    # 首先找到所有的中心点\n",
    "    center_x = (np.arrange(anchor_shape[1]) + 0.5) * strides[1]\n",
    "    center_y = (np.arrange(anchor_shape[0]) + 0.5) * strides[0]\n",
    "    # 然后\n",
    "    "
   ]
  }
 ],
 "metadata": {
  "kernelspec": {
   "display_name": "Python 3",
   "language": "python",
   "name": "python3"
  },
  "language_info": {
   "codemirror_mode": {
    "name": "ipython",
    "version": 3
   },
   "file_extension": ".py",
   "mimetype": "text/x-python",
   "name": "python",
   "nbconvert_exporter": "python",
   "pygments_lexer": "ipython3",
   "version": "3.6.4"
  }
 },
 "nbformat": 4,
 "nbformat_minor": 2
}
