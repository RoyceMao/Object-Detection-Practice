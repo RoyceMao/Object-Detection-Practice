{
 "cells": [
  {
   "cell_type": "code",
   "execution_count": 1,
   "metadata": {},
   "outputs": [
    {
     "name": "stderr",
     "output_type": "stream",
     "text": [
      "C:\\Users\\Royce\\Anaconda3\\lib\\site-packages\\h5py\\__init__.py:36: FutureWarning: Conversion of the second argument of issubdtype from `float` to `np.floating` is deprecated. In future, it will be treated as `np.float64 == np.dtype(float).type`.\n",
      "  from ._conv import register_converters as _register_converters\n"
     ]
    }
   ],
   "source": [
    "import numpy as np\n",
    "import tensorflow as tf"
   ]
  },
  {
   "cell_type": "code",
   "execution_count": 2,
   "metadata": {},
   "outputs": [],
   "source": [
    "sess = tf.Session()"
   ]
  },
  {
   "cell_type": "markdown",
   "metadata": {},
   "source": [
    "Padding NP"
   ]
  },
  {
   "cell_type": "code",
   "execution_count": 3,
   "metadata": {},
   "outputs": [],
   "source": [
    "def padding_np(input_np, fixed_size):\n",
    "    # size\n",
    "    shape = input_np.shape\n",
    "    # 增加tag标志位（全1）\n",
    "    tag_np = np.pad(input_np, ((0, 0),(0, 1)), mode='constant', constant_values=1)\n",
    "    # 增加padding\n",
    "    padding_size = int(max(0, (fixed_size - shape[0])/2))\n",
    "    padding_np = np.pad(tag_np, ((padding_size, padding_size),(0, 0)), mode='constant', constant_values=0)\n",
    "    return padding_np"
   ]
  },
  {
   "cell_type": "code",
   "execution_count": 4,
   "metadata": {},
   "outputs": [],
   "source": [
    "input_np = tf.constant([[1,2],[3,4]], dtype=tf.float16)\n",
    "input_np = np.asarray([[1,2],[3,4]])\n",
    "fixed_size = 4"
   ]
  },
  {
   "cell_type": "code",
   "execution_count": 5,
   "metadata": {},
   "outputs": [],
   "source": [
    "padding_np = padding_np(input_np, fixed_size)"
   ]
  },
  {
   "cell_type": "code",
   "execution_count": 6,
   "metadata": {},
   "outputs": [
    {
     "data": {
      "text/plain": [
       "array([[0, 0, 0],\n",
       "       [1, 2, 1],\n",
       "       [3, 4, 1],\n",
       "       [0, 0, 0]])"
      ]
     },
     "execution_count": 6,
     "metadata": {},
     "output_type": "execute_result"
    }
   ],
   "source": [
    "padding_np"
   ]
  },
  {
   "cell_type": "markdown",
   "metadata": {},
   "source": [
    "Padding TF"
   ]
  },
  {
   "cell_type": "code",
   "execution_count": 7,
   "metadata": {},
   "outputs": [],
   "source": [
    "def padding_tf(input_tensor, fixed_size):\n",
    "    shape = tf.shape(input_tensor)\n",
    "    tag_tf = tf.pad(input_tensor, [[0, 0],[0, 1]], mode='CONSTANT', constant_values=1)\n",
    "    padding_size = tf.maximum(0, tf.cast(((fixed_size - shape[0])/2), dtype=tf.int32))\n",
    "    padding_tf = tf.pad(tag_tf, [[padding_size, padding_size],[0, 0]], mode='CONSTANT', constant_values=0)\n",
    "    return padding_tf"
   ]
  },
  {
   "cell_type": "code",
   "execution_count": 8,
   "metadata": {},
   "outputs": [
    {
     "name": "stdout",
     "output_type": "stream",
     "text": [
      "Tensor(\"Const_1:0\", shape=(2, 2), dtype=float16)\n"
     ]
    }
   ],
   "source": [
    "input_tf = tf.constant([[1,2],[3,4]], dtype=tf.float16)\n",
    "print(input_tf )\n",
    "fixed_size = 4"
   ]
  },
  {
   "cell_type": "code",
   "execution_count": 9,
   "metadata": {},
   "outputs": [],
   "source": [
    "pad_tf = padding_tf(input_tf, fixed_size)"
   ]
  },
  {
   "cell_type": "code",
   "execution_count": 10,
   "metadata": {},
   "outputs": [
    {
     "name": "stdout",
     "output_type": "stream",
     "text": [
      "[[0. 0. 0.]\n",
      " [1. 2. 1.]\n",
      " [3. 4. 1.]\n",
      " [0. 0. 0.]]\n"
     ]
    }
   ],
   "source": [
    "print(sess.run(pad_tf))"
   ]
  },
  {
   "cell_type": "markdown",
   "metadata": {},
   "source": [
    "去除Padding NP"
   ]
  },
  {
   "cell_type": "code",
   "execution_count": 11,
   "metadata": {},
   "outputs": [],
   "source": [
    "def padding_remove_np(padding_np):\n",
    "    pad_tag = padding_np[...,-1]\n",
    "    start_nopad = np.where(pad_tag == 1)[0][0] # 返回的一个长度为1的tuple\n",
    "    size_nopad = int(np.sum(pad_tag))\n",
    "    return padding_np[start_nopad:start_nopad+size_nopad,:-1]"
   ]
  },
  {
   "cell_type": "code",
   "execution_count": 12,
   "metadata": {},
   "outputs": [],
   "source": [
    "padding_np = padding_np\n",
    "padding_removed_np = padding_remove_np(padding_np)"
   ]
  },
  {
   "cell_type": "code",
   "execution_count": 13,
   "metadata": {},
   "outputs": [
    {
     "data": {
      "text/plain": [
       "array([[1, 2],\n",
       "       [3, 4]])"
      ]
     },
     "execution_count": 13,
     "metadata": {},
     "output_type": "execute_result"
    }
   ],
   "source": [
    "padding_removed_np"
   ]
  },
  {
   "cell_type": "markdown",
   "metadata": {},
   "source": [
    "去除Padding TF"
   ]
  },
  {
   "cell_type": "code",
   "execution_count": 14,
   "metadata": {},
   "outputs": [],
   "source": [
    "def padding_remove_tf(padding_tf):\n",
    "    pad_tag = padding_tf[..., -1]\n",
    "    start_nopad = tf.where(tf.equal(pad_tag,1))[0][0] # 返回\n",
    "    size_nopad = tf.cast(tf.reduce_sum(pad_tag), tf.int64)\n",
    "    return padding_tf[start_nopad:start_nopad+size_nopad,:-1]"
   ]
  },
  {
   "cell_type": "code",
   "execution_count": 15,
   "metadata": {},
   "outputs": [],
   "source": [
    "padding_tf = tf.constant([[0,0,0],[0,0,0],[1,2,1],[3,4,1],[0,0,0],[0,0,0]], dtype=tf.float16)"
   ]
  },
  {
   "cell_type": "code",
   "execution_count": 16,
   "metadata": {},
   "outputs": [],
   "source": [
    "padding_removed_tf = padding_remove_tf(padding_tf)"
   ]
  },
  {
   "cell_type": "code",
   "execution_count": 17,
   "metadata": {
    "scrolled": true
   },
   "outputs": [
    {
     "name": "stdout",
     "output_type": "stream",
     "text": [
      "[[1. 2.]\n",
      " [3. 4.]]\n"
     ]
    }
   ],
   "source": [
    "print(sess.run(padding_removed_tf))"
   ]
  },
  {
   "cell_type": "markdown",
   "metadata": {},
   "source": [
    "Padding的图片实际应用"
   ]
  },
  {
   "cell_type": "code",
   "execution_count": 18,
   "metadata": {},
   "outputs": [],
   "source": [
    "# padding in Pic\n",
    "def padding_pic(input_tensor, fixed_size):\n",
    "    shape = tf.shape(input_tensor)\n",
    "    tag_tf = tf.pad(input_tensor, [[0, 0],[0, 0],[0, 1]], mode='CONSTANT', constant_values=1)\n",
    "    padding_size = tf.maximum(0, tf.cast(((fixed_size - shape[0])/2), dtype=tf.int32))\n",
    "    padding_tf = tf.pad(tag_tf, [[padding_size, padding_size],[0, 0],[0, 0]], mode='CONSTANT', constant_values=0)\n",
    "    return padding_tf"
   ]
  },
  {
   "cell_type": "code",
   "execution_count": 30,
   "metadata": {},
   "outputs": [],
   "source": [
    "# 去除padding in Pic\n",
    "def padding_remove_pic(padding_tf):\n",
    "    pad_tag = padding_tf[..., -1]\n",
    "    # tensor按行求和\n",
    "    pad_h_sum = tf.reduce_sum(pad_tag, 1)\n",
    "    # 找pad_h_sum不为零的索引\n",
    "    start_nopad = tf.where(tf.equal(pad_h_sum,550))[0][0]\n",
    "    end_nopad = tf.where(tf.equal(pad_h_sum,550))[-1][0]\n",
    "    # size_nopad = tf.cast(tf.reduce_sum(pad_tag), tf.int64)\n",
    "    return padding_tf[start_nopad:end_nopad,...]"
   ]
  },
  {
   "cell_type": "code",
   "execution_count": 38,
   "metadata": {},
   "outputs": [
    {
     "name": "stdout",
     "output_type": "stream",
     "text": [
      "样例图片的shape为：(326, 550, 3)\n"
     ]
    },
    {
     "data": {
      "image/png": "[encoded data removed]",
      "text/plain": [
       "<matplotlib.figure.Figure at 0x296f14754e0>"
      ]
     },
     "metadata": {
      "needs_background": "light"
     },
     "output_type": "display_data"
    }
   ],
   "source": [
    "# 真实图片的padding测试\n",
    "from PIL import Image\n",
    "from skimage import io\n",
    "import matplotlib.pyplot as plt\n",
    "image_path = r'C:\\Users\\Royce\\Desktop\\time.jpg'\n",
    "input_np = io.imread(image_path)\n",
    "print(\"样例图片的shape为：{}\".format(input_np.shape))\n",
    "fixed_size = 380\n",
    "input_tf = tf.convert_to_tensor(input_np, dtype=tf.float16)\n",
    "padded = padding_pic(input_tf, fixed_size)\n",
    "origin = padding_remove_pic(padded)\n",
    "# print(origin.eval(session=sess))\n",
    "\n",
    "to_run = [padded,origin]\n",
    "# 可视化tensor为numpy表示形式，并把numpy转Image可视化\n",
    "for i,param in enumerate(to_run):\n",
    "    # print(i,'\\n',sess.run(i))\n",
    "    img = sess.run(param)\n",
    "    img = Image.fromarray(img[...,:-1].astype('uint8'))\n",
    "    plt.subplot(1,2,i+1)\n",
    "    plt.imshow(img)"
   ]
  },
  {
   "cell_type": "code",
   "execution_count": null,
   "metadata": {},
   "outputs": [],
   "source": []
  }
 ],
 "metadata": {
  "kernelspec": {
   "display_name": "Python 3",
   "language": "python",
   "name": "python3"
  },
  "language_info": {
   "codemirror_mode": {
    "name": "ipython",
    "version": 3
   },
   "file_extension": ".py",
   "mimetype": "text/x-python",
   "name": "python",
   "nbconvert_exporter": "python",
   "pygments_lexer": "ipython3",
   "version": "3.6.4"
  }
 },
 "nbformat": 4,
 "nbformat_minor": 2
}
