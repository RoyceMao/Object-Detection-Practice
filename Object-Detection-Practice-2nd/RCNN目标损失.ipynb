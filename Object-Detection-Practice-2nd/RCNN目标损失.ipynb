{
 "cells": [
  {
   "cell_type": "code",
   "execution_count": 1,
   "metadata": {},
   "outputs": [
    {
     "name": "stderr",
     "output_type": "stream",
     "text": [
      "C:\\Users\\Royce\\Anaconda3\\lib\\site-packages\\h5py\\__init__.py:36: FutureWarning: Conversion of the second argument of issubdtype from `float` to `np.floating` is deprecated. In future, it will be treated as `np.float64 == np.dtype(float).type`.\n",
      "  from ._conv import register_converters as _register_converters\n"
     ]
    }
   ],
   "source": [
    "import numpy as np\n",
    "import tensorflow as tf\n",
    "sess = tf.Session()"
   ]
  },
  {
   "cell_type": "markdown",
   "metadata": {},
   "source": [
    "分类loss"
   ]
  },
  {
   "cell_type": "code",
   "execution_count": null,
   "metadata": {},
   "outputs": [],
   "source": [
    "def RCNN_Cls_Loss(pred_cls_ids, true_cls_ids)\n",
    "    \"\"\"\n",
    "    RCNN的分类损失\n",
    "    pred_cls_ids：（batch_num，train_rois_per_image，class_one-hot）\n",
    "    true_cls_ids：（batch_num，train_rois_per_image，（class_name，tag））\n",
    "    \"\"\"\n",
    "    train_indices = tf.where(tf.not_equal(true_cls_ids[...,-1], 0))\n",
    "    true_cls_ids = tf.gather_nd(true_cls_ids[...,0], train_indices) # 2维\n",
    "#     # 2维索引拼接\n",
    "#     batch_indices = train_indices[:, 0]\n",
    "#     indices_2D = tf.stack([, ], axis=1)\n",
    "    pred_cls_ids = tf.gather_nd(pred_cls_ids, train_indices)\n",
    "    #\n",
    "    true_cls_ids = tf.one_hot(true_cls_ids, depth=tf.shape(pred_cls_ids)[-1])\n",
    "    #\n",
    "    loss = tf.nn.softmax_cross_entropy(labels=true_cls_ids, logits=pred_cls_ids)\n",
    "    \n",
    "    return loss"
   ]
  },
  {
   "cell_type": "code",
   "execution_count": null,
   "metadata": {},
   "outputs": [],
   "source": [
    "\"\"\"\n",
    "注：这里并未做2维的索引堆叠，因为前向传导的proposals的数量与真实target的rois的数量是一致的（因此train_indices就是true与pred的2维索引）\n",
    "\"\"\""
   ]
  },
  {
   "cell_type": "markdown",
   "metadata": {},
   "source": [
    "回归loss"
   ]
  },
  {
   "cell_type": "code",
   "execution_count": null,
   "metadata": {},
   "outputs": [],
   "source": [
    "def RCNN_Regress_Loss(pred_deltas, deltas, cls_ids):\n",
    "    \"\"\"\n",
    "    RCNN的回归损失（类别相关）\n",
    "    pred_deltas：（batch_num，train_rois_per_image，class_ids，4）\n",
    "    deltas：（batch_num，train_rois_per_image，（4，tag））\n",
    "    cls_ids：（batch_num，train_rois_per_image，(class_ids, tag)）\n",
    "    \"\"\"\n",
    "    pos_indices = tf.where(tf.equal(cls_ids[...,-1], 1)) # 2维\n",
    "    deltas = tf.gather_nd(deltas[...,:-1], pos_indices)\n",
    "    cls_ids = tf.gather_nd(cls_ids[...,0], pos_indices) # 2维\n",
    "    # 构造3维索引\n",
    "    indices_3d = tf.concat([pos_indices, tf.cast(cls_ids, dtype=tf.int32)], axis=1) # \n",
    "    pred_deltas = tf.gather_nd(pred_deltas, indices_3d)\n",
    "    # \n",
    "    import keras.backend as K\n",
    "    loss = K.switch(tf.size(deltas) > 0,\n",
    "                    Smooth_l1_Loss(deltas, pred_deltas),\n",
    "                    tf.constant(0.0))\n",
    "    loss = K.mean(loss)\n",
    "    \n",
    "    return loss"
   ]
  },
  {
   "cell_type": "code",
   "execution_count": null,
   "metadata": {},
   "outputs": [],
   "source": [
    "\"\"\"\n",
    "注：这里做维度的索引堆叠/拼接时，因为pos_indices是2维索引，cls_ids也是2维索引。故不采用tf.stack()的方法增加维度，而采用tf.concat()，拼接成[N, 3]的shape形式\n",
    "3列的索引值，对应了pred_deltas参数的前3个维度。\n",
    "\"\"\""
   ]
  },
  {
   "cell_type": "code",
   "execution_count": null,
   "metadata": {},
   "outputs": [],
   "source": [
    "def Smooth_l1_Loss(y_true, y_pred): # 0.5*x^2 if |x| <1 else |x|-0.5; x是 diff\n",
    "    \"\"\"\n",
    "    smooth_l1_loss的计算过程\n",
    "    y_true:（N，4）\n",
    "    y_pred:（N，4）\n",
    "    \"\"\"\n",
    "    abs_diff = tf.abs(y_true - y_pred) \n",
    "    loss_all = tf.where(tf.less(abs_diff, 1) 0.5*tf.pow(abs_diff, 2) tf.abs(abs_diff)-0.5) # tf.where()当有3个参数值时，返回同维度的赋值结果\n",
    "    loss = tf.reduce_mean(loss_all, axis=1)\n",
    "    \n",
    "    return loss"
   ]
  }
 ],
 "metadata": {
  "kernelspec": {
   "display_name": "Python 3",
   "language": "python",
   "name": "python3"
  },
  "language_info": {
   "codemirror_mode": {
    "name": "ipython",
    "version": 3
   },
   "file_extension": ".py",
   "mimetype": "text/x-python",
   "name": "python",
   "nbconvert_exporter": "python",
   "pygments_lexer": "ipython3",
   "version": "3.6.4"
  }
 },
 "nbformat": 4,
 "nbformat_minor": 2
}
