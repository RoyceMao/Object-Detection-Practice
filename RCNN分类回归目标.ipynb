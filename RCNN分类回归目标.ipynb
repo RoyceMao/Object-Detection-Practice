{
 "cells": [
  {
   "cell_type": "markdown",
   "metadata": {},
   "source": [
    "# RCNN的分类与回归目标"
   ]
  },
  {
   "cell_type": "markdown",
   "metadata": {},
   "source": [
    "RCNN精确到具体类别的正负样本采样与训练数据的generator"
   ]
  },
  {
   "cell_type": "code",
   "execution_count": 1,
   "metadata": {},
   "outputs": [
    {
     "name": "stderr",
     "output_type": "stream",
     "text": [
      "C:\\Users\\Royce\\Anaconda3\\lib\\site-packages\\h5py\\__init__.py:36: FutureWarning: Conversion of the second argument of issubdtype from `float` to `np.floating` is deprecated. In future, it will be treated as `np.float64 == np.dtype(float).type`.\n",
      "  from ._conv import register_converters as _register_converters\n"
     ]
    }
   ],
   "source": [
    "import numpy as np\n",
    "import tensorflow as tf\n",
    "sess = tf.Session()"
   ]
  },
  {
   "cell_type": "code",
   "execution_count": 12,
   "metadata": {},
   "outputs": [],
   "source": [
    "# 之前写的2维tensor的去除padding的操作\n",
    "def padding_remove_tf(padding_tf):\n",
    "    pad_tag = padding_tf[..., -1] # 原3维数组的话，这里返回2维数组\n",
    "    start_pad = tf.where(tf.equal(pad_tag,0))[0][0]\n",
    "    end_pad = tf.where(tf.equal(pad_tag,0))[-1][0]\n",
    "    return padding_tf[start_pad:end_pad+1,:-1]"
   ]
  },
  {
   "cell_type": "code",
   "execution_count": 3,
   "metadata": {},
   "outputs": [],
   "source": [
    "# 之前写的IOU的计算过程\n",
    "def iou_tf(boxes_a, boxes_b):\n",
    "    # numpy转tensor\n",
    "#     boxes_a = tf.constant(boxes_a, dtype=tf.float32)\n",
    "#     boxes_b = tf.constant(boxes_b, dtype=tf.float32)\n",
    "    # 扩围\n",
    "    boxes_a = tf.expand_dims(boxes_a, axis=1)\n",
    "    boxes_b = tf.expand_dims(boxes_b, axis=0)\n",
    "    # 两两计算overlap的长与宽，若不相交（负值）则取0\n",
    "    overlap_h = tf.maximum(0.0, tf.minimum(boxes_a[...,2],boxes_b[...,2])-tf.maximum(boxes_a[...,0],boxes_b[...,0]))\n",
    "    overlap_w = tf.maximum(0.0, tf.minimum(boxes_a[...,3],boxes_b[...,3])-tf.maximum(boxes_a[...,1],boxes_b[...,1]))\n",
    "    # 计算交集\n",
    "    overlap = overlap_h * overlap_w\n",
    "    # 计算并集\n",
    "    union = (boxes_a[...,2]-boxes_a[...,0]) * (boxes_a[...,3]-boxes_a[...,1]) + (boxes_b[...,2]-boxes_b[...,0]) * (boxes_b[...,3]-boxes_b[...,1]) - overlap\n",
    "    # 求交并比\n",
    "    iou = tf.divide(overlap, union, name='regress_target_iou')\n",
    "    return iou"
   ]
  },
  {
   "cell_type": "code",
   "execution_count": 4,
   "metadata": {},
   "outputs": [],
   "source": [
    "# 之前写的回归目标的计算过程\n",
    "def regress_target_tf(anchors, gt_boxes):\n",
    "    \"\"\"\n",
    "    计算回归目标\n",
    "    :param anchors: [N,(y1,x1,y2,x2)]\n",
    "    :param gt_boxes: [N,(y1,x1,y2,x2)]\n",
    "    :return: [N,(dy, dx, dh, dw)]\n",
    "    \"\"\"\n",
    "    # 高度和宽度\n",
    "    h = anchors[:, 2] - anchors[:, 0]\n",
    "    w = anchors[:, 3] - anchors[:, 1]\n",
    " \n",
    "    gt_h = gt_boxes[:, 2] - gt_boxes[:, 0]\n",
    "    gt_w = gt_boxes[:, 3] - gt_boxes[:, 1]\n",
    "    # 中心点\n",
    "    center_y = (anchors[:, 2] + anchors[:, 0]) * 0.5\n",
    "    center_x = (anchors[:, 3] + anchors[:, 1]) * 0.5\n",
    "    gt_center_y = (gt_boxes[:, 2] + gt_boxes[:, 0]) * 0.5\n",
    "    gt_center_x = (gt_boxes[:, 3] + gt_boxes[:, 1]) * 0.5\n",
    " \n",
    "    # 回归目标\n",
    "    dy = (gt_center_y - center_y) / h\n",
    "    dx = (gt_center_x - center_x) / w\n",
    "    dh = tf.log(gt_h / h)\n",
    "    dw = tf.log(gt_w / w)\n",
    " \n",
    "    target = tf.stack([dy, dx, dh, dw], axis=1)\n",
    "    target /= tf.constant([0.1, 0.1, 0.2, 0.2])\n",
    "    # target = tf.where(tf.greater(target, 100.0), 100.0, target)\n",
    "    return target"
   ]
  },
  {
   "cell_type": "code",
   "execution_count": 5,
   "metadata": {},
   "outputs": [],
   "source": [
    "# 之前写的random_shuffle()函数，用来随机采样\n",
    "def shuffle_sample(tensor_list, tensor_size, sample_size):\n",
    "    sample_indices = tf.random_shuffle(tf.range(tensor_size))[:sample_size]\n",
    "    return [tf.gather(tensor, sample_indices) for tensor in tensor_list]"
   ]
  },
  {
   "cell_type": "code",
   "execution_count": null,
   "metadata": {},
   "outputs": [],
   "source": [
    "# RCNN的分类、回归目标的确定\n",
    "## 与RPN的目标寻找原理没多大差别，只需要注意这里的proposals与gt_boxes因为之前的回归，已经做了对应。\n",
    "## 同时，这里的正负样本不是1：1的比例关系，而是正样本+负样本等于确定数量的关系。\n",
    "def rcnn_targets_graph(gt_boxes, gt_class_ids, proposals, train_rois_per_image, roi_positive_ratio)\n",
    "    \"\"\"\n",
    "    每个图像生成检测网络的分类和回归目标\n",
    "    IoU>=0.5的为正样本；IoU<0.5的为负样本\n",
    "    :param gt_boxes: GT 边框坐标 [MAX_GT_BOXs, (y1,x1,y2,x2,tag)] ,tag=0 为padding\n",
    "    :param gt_class_ids: GT 类别 [MAX_GT_BOXs, 1+1] ;最后一位为tag, tag=0 为padding\n",
    "    :param proposals: [N,(y1,x1,y2,x2,tag)] ,tag=0 为padding，其他tag=1\n",
    "    :param train_rois_per_image: 每张图像训练的proposal数量\n",
    "    :param roi_positive_ratio: proposal正负样本比\n",
    "    :return:\n",
    "    \"\"\"\n",
    "    # 首先去除gt_boxes、gt_class_ids、proposals的padding\n",
    "    gt_boxes = padding_remove_tf(gt_boxes)\n",
    "    gt_class_ids = padding_remove_tf(gt_class_ids)[...,0]\n",
    "    proposals = padding_remove_tf(proposals)\n",
    "    \n",
    "    # 然后两两计算IOU\n",
    "    iou = iou_tf(gt_boxes, proposals)\n",
    "    \n",
    "    # 开始找正样本proposals\n",
    "    ## 第一类是找到每个gt对应iou值最大的proposals索引indice_1（不管iou的阈值情况）\n",
    "    gt_iou_argmax = tf.argmax(iou, axis=1)\n",
    "    positive_gt_1 = gt_boxes # 因为之前RPN已经确定每个GT至少生成有一个对应的proposal，所以GT不用再做筛选\n",
    "    positive_proposals_idx_1 = gt_iou_argmax\n",
    "    positive_cls_1 = gt_class_ids\n",
    "    ## 第一类：确定GT框、GT框对应的cls、正样本proposals框3个指标\n",
    "    gt_boxes_pos_1 = tf.identity(positive_gt_1)\n",
    "    gt_cls_pos_1 = tf.identity(positive_cls_1)\n",
    "    proposals_pos_1 = tf.gather(proposals, positive_proposals_idx_1)\n",
    "    \n",
    "    ## 第二类是找到每个proposals与其对应gt的最大iou值，并比较0.5的阈值情况，得到索引indice_2\n",
    "    proposal_iou_max = tf.reduce_max(iou, axis=0)\n",
    "    proposal_pos_idx_2 = tf.where(proposal_iou_max > 0.5) # iou值高于0.5正样本\n",
    "    proposal_iou_argmax = tf.argmax(iou, axis=0)\n",
    "    gt_pos_idx_2 = tf.gather_nd(proposal_iou_argmax, proposal_pos_idx_2) # 找到第二部分正样本proposals所对应的GT索引\n",
    "    ## 第二类：确定GT框、GT框对应的cls、正样本proposals框3个指标\n",
    "    gt_boxes_pos_2 = tf.gather(gt_boxes, gt_pos_idx_2)\n",
    "    gt_cls_pos_2 = tf.gather(gt_class_ids, gt_pos_idx_2)\n",
    "    proposals_pos_2 = tf.gather(proposals, proposal_pos_idx_2[...,0])\n",
    "    \n",
    "    # 合并目标\n",
    "    gt_boxes_pos = tf.concat([gt_boxes_pos_1, gt_boxes_pos_2], axis=0)\n",
    "    gt_cls_pos = tf.concat([gt_cls_pos_1, gt_cls_pos_2], axis=0)\n",
    "    proposals_pos = tf.concat([proposals_pos_1, proposals_pos_2], axis=0)\n",
    "    \n",
    "    # 计算正样本的回归目标（因为只有正样本有边框回归过程）\n",
    "    deltas_pos = regress_target_tf(proposals_pos, gt_boxes_pos)\n",
    "    \n",
    "    # 正样本随机采样\n",
    "    proposal_pos_num = tf.minimum(tf.shape(proposals_pos)[0], tf.cast(train_rois_per_image*roi_positive_ratio, tf.int32))\n",
    "    gt_boxes_pos, gt_cls_pos, deltas_pos = shuffle_sample([gt_boxes_pos, gt_cls_pos, deltas_pos], \n",
    "                                      tf.shape(proposal_pos)[0], \n",
    "                                      proposal_pos_num)\n",
    "    \n",
    "    # 开始找负样本proposals\n",
    "    proposal_neg_idx = tf.where(proposal_iou_max < 0.5) # iou值低于0.5负样本\n",
    "    ## 负样本索引随机采样\n",
    "    proposal_neg_num = tf.minimum(train_rois_per_image-proposal_pos_num, tf.cast(train_rois_per_image*(1-roi_positive_ratio), tf.int32))\n",
    "    proposal_neg_idx = tf.random_shuffle(proposal_neg_idx)[:proposal_neg_num]\n",
    "    ## 采集负样本目标\n",
    "    proposals_neg = tf.gather(proposals, proposal_neg_idx)\n",
    "    deltas_neg = tf.zeros([proposal_neg_num, 4], dtype=float32)\n",
    "    gt_cls_neg = tf.zeros([proposal_neg_num], dtype=uint8)\n",
    "    \n",
    "    # 合并正负样本\n",
    "    proposals = tf.concat([proposals_pos, proposals_neg], axis=0)\n",
    "    deltas = tf.concat([deltas_pos, deltas_neg], axis=0)\n",
    "    class_ids = tf.concat([gt_cls_pos, gt_cls_neg], axis=0)\n",
    "    \n",
    "#     # 计算padding\n",
    "#     class_ids, train_rois = tf_utils.pad_list_to_fixed_size(\n",
    "#         [tf.expand_dims(class_ids, axis=1), train_rois], train_rois_per_image)  # class_ids分类扩一维\n",
    "#     # 为后续处理方便负样本tag设置为-1\n",
    "#     deltas = tf_utils.pad_to_fixed_size_with_negative(deltas, train_rois_per_image, negative_num=negative_num)\n",
    "    \n",
    "    return proposals, deltas, class_ids"
   ]
  },
  {
   "cell_type": "code",
   "execution_count": null,
   "metadata": {},
   "outputs": [],
   "source": [
    "# # RCNN的分类、回归目标的确定 （第2次写）\n",
    "# def rcnn_target(proposals, gt_boxes, gt_cls_ids, train_rois_per_image, roi_positive_ratio):\n",
    "#     \"\"\"\n",
    "#     \"\"\"\n",
    "#     # 首先对gt_boxes去padding操作\n",
    "#     gt_boxes = padding_remove_tf(gt_boxes)\n",
    "#     gt_cls_ids = padding_remove_tf(gt_cls_ids)\n",
    "#     # 计算proposals与gt_boxes之间的IOU关系\n",
    "#     iou = iou_tf(gt_boxes, proposals)\n",
    "#     # 根据iou关系找到所有GT对应的IOU值最高的第1波正样本\n",
    "#     proposal_iou_argmax = tf.argmax(iou, axis=1) # axis=0按列计算，axis=1按行计算\n",
    "#     pos_indices_1 = proposal_iou_argmax\n",
    "#     #======================================================================\n",
    "#     gt_boxes_1 = gt_boxes\n",
    "#     gt_cls_ids_1 = gt_cls_ids\n",
    "#     proposal_pos_1 = tf.gather(proposals, pos_indices_1)\n",
    "#     # 根据0.5的阈值关系，找到第2波正样本\n",
    "#     proposal_iou_max = tf.reduce_max(iou, axis=0)\n",
    "#     pos_indices_2 = tf.where(proposal_iou_max > 0.5)\n",
    "#     gt_iou_argmax = tf.argmax(iou, axis=0)\n",
    "#     gt_pos_indices = tf.gather_nd(gt_iou_argmax, pos_indices_2) # 找到第二波正样本对应的GT\n",
    "#     #======================================================================\n",
    "#     gt_boxes_2 = tf.gather(gt_boxes, gt_pos_indices)\n",
    "#     gt_cls_ids_2 = tf.gather(gt_cls_idx, gt_pos_indices)\n",
    "#     proposal_pos_2 = tf.gather(proposals, pos_indices_2)\n",
    "#     # 正样本合并汇总\n",
    "#     gt_boxes_pos = tf.concat([gt_boxes_1, gt_boxes_2], axis=0)\n",
    "#     gt_cls_ids_pos = tf.concat([gt_cls_ids_1, gt_cls_ids_2], axis=0)\n",
    "#     proposal_pos = tf.concat([proposal_pos_1, proposal_pos_2], axis=0)\n",
    "#     # 正样本回归目标的计算\n",
    "#     deltas_pos = regress_target_tf(proposal_pos, gt_boxes_pos)\n",
    "#     # 正样本启发式采样\n",
    "#     pos_num = tf.minimum(train_rois_per_image*roi_positive_ratio, tf.shape(proposal_pos)[0])\n",
    "#     deltas_pos, gt_cls_ids_pos, proposal_pos = shuffle_sample([gt_boxes_pos, gt_cls_ids_pos, proposal_pos],\n",
    "#                                                                  tf.shape(proposal_pos)[0],\n",
    "#                                                                  pos_num)\n",
    "    \n",
    "#     # 找到负样本\n",
    "#     neg_indices = tf.where(proposal_iou_max < 0.5)\n",
    "#     # 负样本gather\n",
    "#     proposal_neg = tf.gather(proposals, neg_indices)\n",
    "#     neg_num = tf.minimum(train_rois_per_image*(1-roi_positive_ratio), tf.shape(proposal_neg)[0])\n",
    "#     proposal_neg = random_shuffle(proposal_neg, tf.range(proposal_neg))[:neg_num]\n",
    "#     deltas_neg =tf.zeros([neg_num, 4])\n",
    "#     gt_cls_ids_neg = tf.zeros([neg_num])\n",
    "    \n",
    "#     # 正负样本合并\n",
    "#     deltas = tf.concat([deltas_pos, deltas_neg], axis=0)\n",
    "#     cls = tf.concat([gt_cls_ids_pos, gt_cls_ids_neg], axis=0)\n",
    "#     proposals = tf.concat([proposal_pos, proposal_neg], axis=0)\n",
    "    \n",
    "#     return deltas, cls, proposals"
   ]
  },
  {
   "cell_type": "code",
   "execution_count": 66,
   "metadata": {},
   "outputs": [],
   "source": [
    "#===============================参数设置==========================================\n",
    "# 函数输出测试:1\n",
    "proposals = tf.constant(np.array([[78,22,253,304],[269,19,360,296]]), dtype=tf.float32)\n",
    "gt_boxes = tf.constant(np.array([[50,30,200,280,0],[280,10,370,320,0]]), dtype=tf.float32)\n",
    "gt_class_ids = tf.constant(np.array([[1,0],[2,0]]), dtype=tf.int32)\n",
    "train_rois_per_image = 2\n",
    "roi_positive_ratio = 0.5"
   ]
  },
  {
   "cell_type": "code",
   "execution_count": 67,
   "metadata": {},
   "outputs": [
    {
     "name": "stdout",
     "output_type": "stream",
     "text": [
      "[[ 50.  30. 200. 280.]\n",
      " [280.  10. 370. 320.]]\n",
      "[1 2]\n",
      "[[0.54126    0.        ]\n",
      " [0.         0.71606296]]\n"
     ]
    }
   ],
   "source": [
    "# RCNN分类、回归目标函数测试：1\n",
    "gt_boxes = padding_remove_tf(gt_boxes)\n",
    "gt_class_ids = padding_remove_tf(gt_class_ids)[...,0]\n",
    "# proposals = padding_remove_tf(proposals)\n",
    "\n",
    "# 然后两两计算IOU\n",
    "iou = iou_tf(gt_boxes, proposals)\n",
    "print(gt_boxes.eval(session=sess))\n",
    "print(gt_class_ids.eval(session=sess))\n",
    "print(iou.eval(session=sess))"
   ]
  },
  {
   "cell_type": "code",
   "execution_count": 68,
   "metadata": {},
   "outputs": [
    {
     "name": "stdout",
     "output_type": "stream",
     "text": [
      "2波正样本合并后随机采样对应的回归目标：\n",
      "[[ 1.1538461   0.27075812 -0.05524918  0.562774  ]]\n",
      "2波正样本合并后随机采样对应的分类目标：\n",
      "[2]\n",
      "2波正样本合并后随机采样的proposals框：\n",
      "[[269.  19. 360. 296.]]\n"
     ]
    }
   ],
   "source": [
    "# RCNN分类、回归目标函数测试：2\n",
    "## ================================正样本====================================\n",
    "## 第一类是找到每个gt对应iou值最大的proposals索引indice_1（不管iou的阈值情况）\n",
    "gt_iou_argmax = tf.argmax(iou, axis=1)\n",
    "positive_gt_1 = gt_boxes # 因为之前RPN已经确定每个GT至少生成有一个对应的proposal，所以GT不用再做筛选\n",
    "positive_proposals_idx_1 = gt_iou_argmax\n",
    "positive_cls_1 = gt_class_ids\n",
    "## 第一类：确定GT框、GT框对应的cls、正样本proposals框3个指标\n",
    "gt_boxes_pos_1 = tf.identity(positive_gt_1)\n",
    "gt_cls_pos_1 = tf.identity(positive_cls_1)\n",
    "proposals_pos_1 = tf.gather(proposals, positive_proposals_idx_1)\n",
    "\n",
    "## 第二类是找到每个proposals与其对应gt的最大iou值，并比较0.5的阈值情况，得到索引indice_2\n",
    "proposal_iou_max = tf.reduce_max(iou, axis=0)\n",
    "proposal_pos_idx_2 = tf.where(proposal_iou_max > 0.5) # iou值高于0.5正样本\n",
    "proposal_iou_argmax = tf.argmax(iou, axis=0)\n",
    "gt_pos_idx_2 = tf.gather_nd(proposal_iou_argmax, proposal_pos_idx_2) # 找到第二部分正样本proposals所对应的GT索引\n",
    "## 第二类：确定GT框、GT框对应的cls、正样本proposals框3个指标\n",
    "gt_boxes_pos_2 = tf.gather(gt_boxes, gt_pos_idx_2)\n",
    "gt_cls_pos_2 = tf.gather(gt_class_ids, gt_pos_idx_2)\n",
    "proposals_pos_2 = tf.gather(proposals, proposal_pos_idx_2[...,0])\n",
    "\n",
    "# 合并目标\n",
    "gt_boxes_pos = tf.concat([gt_boxes_pos_1, gt_boxes_pos_2], axis=0)\n",
    "gt_cls_pos = tf.concat([gt_cls_pos_1, gt_cls_pos_2], axis=0)\n",
    "proposals_pos = tf.concat([proposals_pos_1, proposals_pos_2], axis=0)\n",
    "\n",
    "deltas_pos = regress_target_tf(proposals_pos, gt_boxes_pos)\n",
    "\n",
    "# 正样本随机采样\n",
    "proposal_pos_num = tf.minimum(tf.shape(proposals_pos)[0], tf.cast(train_rois_per_image*roi_positive_ratio, tf.int32))\n",
    "proposals_pos, gt_cls_pos, deltas_pos = shuffle_sample([proposals_pos, gt_cls_pos, deltas_pos], \n",
    "                                  tf.shape(proposals_pos)[0], \n",
    "                                  proposal_pos_num)\n",
    "print(\"2波正样本合并后随机采样对应的回归目标：\\n{}\".format(deltas_pos.eval(session=sess)))\n",
    "print(\"2波正样本合并后随机采样对应的分类目标：\\n{}\".format(gt_cls_pos.eval(session=sess)))\n",
    "print(\"2波正样本合并后随机采样的proposals框：\\n{}\".format(proposals_pos.eval(session=sess)))"
   ]
  },
  {
   "cell_type": "code",
   "execution_count": 71,
   "metadata": {},
   "outputs": [
    {
     "name": "stdout",
     "output_type": "stream",
     "text": [
      "正、负样本合并随机采样对应的回归目标：\n",
      "[[-2.3142858  -0.28368792 -0.7707533  -0.6022309 ]\n",
      " [ 0.          0.          0.          0.        ]]\n",
      "正、负样本合并随机采样对应的分类目标：\n",
      "[2 0]\n",
      "正、负样本合并随机采样的proposals框：\n",
      "[[269.  19. 360. 296.]]\n"
     ]
    }
   ],
   "source": [
    "# RCNN分类、回归目标函数测试：3\n",
    "## ================================负样本====================================\n",
    "## 采集负样本目标\n",
    "# 开始找负样本proposals\n",
    "proposal_neg_idx = tf.where(proposal_iou_max < 0.5) # iou值低于0.6负样本\n",
    "## 负样本索引随机采样\n",
    "proposal_neg_num = tf.minimum(train_rois_per_image-proposal_pos_num, tf.cast(train_rois_per_image*(1-roi_positive_ratio), tf.int32))\n",
    "proposal_neg_idx = tf.random_shuffle(proposal_neg_idx)[:proposal_neg_num]\n",
    "proposals_neg = tf.gather(proposals, proposal_neg_idx[...,0])\n",
    "deltas_neg = tf.zeros([proposal_neg_num, 4], dtype=tf.float32)\n",
    "gt_cls_neg = tf.zeros([proposal_neg_num], dtype=tf.int32)\n",
    "\n",
    "# 合并正负样本\n",
    "proposals = tf.concat([proposals_pos, proposals_neg], axis=0)\n",
    "deltas = tf.concat([deltas_pos, deltas_neg], axis=0)\n",
    "class_ids = tf.concat([gt_cls_pos, gt_cls_neg], axis=0)\n",
    "#     # 计算padding\n",
    "#     class_ids, train_rois = tf_utils.pad_list_to_fixed_size(\n",
    "#         [tf.expand_dims(class_ids, axis=1), train_rois], train_rois_per_image)  # class_ids分类扩一维\n",
    "#     # 为后续处理方便负样本tag设置为-1\n",
    "#     deltas = tf_utils.pad_to_fixed_size_with_negative(deltas, train_rois_per_image, negative_num=negative_num)\n",
    "print(\"正、负样本合并随机采样对应的回归目标：\\n{}\".format(deltas.eval(session=sess)))\n",
    "print(\"正、负样本合并随机采样对应的分类目标：\\n{}\".format(class_ids.eval(session=sess)))\n",
    "print(\"正、负样本合并随机采样的proposals框：\\n{}\".format(proposals.eval(session=sess)))"
   ]
  },
  {
   "cell_type": "code",
   "execution_count": null,
   "metadata": {},
   "outputs": [],
   "source": []
  }
 ],
 "metadata": {
  "kernelspec": {
   "display_name": "Python 3",
   "language": "python",
   "name": "python3"
  },
  "language_info": {
   "codemirror_mode": {
    "name": "ipython",
    "version": 3
   },
   "file_extension": ".py",
   "mimetype": "text/x-python",
   "name": "python",
   "nbconvert_exporter": "python",
   "pygments_lexer": "ipython3",
   "version": "3.6.4"
  }
 },
 "nbformat": 4,
 "nbformat_minor": 2
}
