{
 "cells": [
  {
   "cell_type": "markdown",
   "metadata": {},
   "source": [
    "# RPN分类回归目标"
   ]
  },
  {
   "cell_type": "markdown",
   "metadata": {},
   "source": [
    "RPN前景、背景正负样本的采样与训练数据的generator\n"
   ]
  },
  {
   "cell_type": "code",
   "execution_count": 1,
   "metadata": {},
   "outputs": [
    {
     "name": "stderr",
     "output_type": "stream",
     "text": [
      "C:\\Users\\Royce\\Anaconda3\\lib\\site-packages\\h5py\\__init__.py:36: FutureWarning: Conversion of the second argument of issubdtype from `float` to `np.floating` is deprecated. In future, it will be treated as `np.float64 == np.dtype(float).type`.\n",
      "  from ._conv import register_converters as _register_converters\n"
     ]
    }
   ],
   "source": [
    "import numpy as np\n",
    "import tensorflow as tf\n",
    "sess = tf.Session()"
   ]
  },
  {
   "cell_type": "code",
   "execution_count": 2,
   "metadata": {},
   "outputs": [],
   "source": [
    "# 之前写的2维tensor的去除padding的操作\n",
    "def padding_remove_tf(padding_tf):\n",
    "    pad_tag = padding_tf[..., -1]\n",
    "    start_pad = tf.where(tf.equal(pad_tag,0))[0][0]\n",
    "    end_pad = tf.where(tf.equal(pad_tag,0))[-1][0]\n",
    "    return padding_tf[start_pad:end_pad+1,:-1]"
   ]
  },
  {
   "cell_type": "code",
   "execution_count": 3,
   "metadata": {},
   "outputs": [],
   "source": [
    "# 之前写的IOU的计算过程\n",
    "def iou_tf(boxes_a, boxes_b):\n",
    "    # numpy转tensor\n",
    "#     boxes_a = tf.constant(boxes_a, dtype=tf.float32)\n",
    "#     boxes_b = tf.constant(boxes_b, dtype=tf.float32)\n",
    "    # 扩围\n",
    "    boxes_a = tf.expand_dims(boxes_a, axis=1)\n",
    "    boxes_b = tf.expand_dims(boxes_b, axis=0)\n",
    "    # 两两计算overlap的长与宽，若不相交（负值）则取0\n",
    "    overlap_h = tf.maximum(0.0, tf.minimum(boxes_a[...,2],boxes_b[...,2])-tf.maximum(boxes_a[...,0],boxes_b[...,0]))\n",
    "    overlap_w = tf.maximum(0.0, tf.minimum(boxes_a[...,3],boxes_b[...,3])-tf.maximum(boxes_a[...,1],boxes_b[...,1]))\n",
    "    # 计算交集\n",
    "    overlap = overlap_h * overlap_w\n",
    "    # 计算并集\n",
    "    union = (boxes_a[...,2]-boxes_a[...,0]) * (boxes_a[...,3]-boxes_a[...,1]) + (boxes_b[...,2]-boxes_b[...,0]) * (boxes_b[...,3]-boxes_b[...,1]) - overlap\n",
    "    # 求交并比\n",
    "    iou = tf.divide(overlap, union, name='regress_target_iou')\n",
    "    return iou"
   ]
  },
  {
   "cell_type": "code",
   "execution_count": 4,
   "metadata": {},
   "outputs": [],
   "source": [
    "# 之前写的回归目标的计算过程\n",
    "def regress_target_tf(anchors, gt_boxes):\n",
    "    \"\"\"\n",
    "    计算回归目标\n",
    "    :param anchors: [N,(y1,x1,y2,x2)]\n",
    "    :param gt_boxes: [N,(y1,x1,y2,x2)]\n",
    "    :return: [N,(dy, dx, dh, dw)]\n",
    "    \"\"\"\n",
    "    # 高度和宽度\n",
    "    h = anchors[:, 2] - anchors[:, 0]\n",
    "    w = anchors[:, 3] - anchors[:, 1]\n",
    " \n",
    "    gt_h = gt_boxes[:, 2] - gt_boxes[:, 0]\n",
    "    gt_w = gt_boxes[:, 3] - gt_boxes[:, 1]\n",
    "    # 中心点\n",
    "    center_y = (anchors[:, 2] + anchors[:, 0]) * 0.5\n",
    "    center_x = (anchors[:, 3] + anchors[:, 1]) * 0.5\n",
    "    gt_center_y = (gt_boxes[:, 2] + gt_boxes[:, 0]) * 0.5\n",
    "    gt_center_x = (gt_boxes[:, 3] + gt_boxes[:, 1]) * 0.5\n",
    " \n",
    "    # 回归目标\n",
    "    dy = (gt_center_y - center_y) / h\n",
    "    dx = (gt_center_x - center_x) / w\n",
    "    dh = tf.log(gt_h / h)\n",
    "    dw = tf.log(gt_w / w)\n",
    " \n",
    "    target = tf.stack([dy, dx, dh, dw], axis=1)\n",
    "    target /= tf.constant([0.1, 0.1, 0.2, 0.2])\n",
    "    # target = tf.where(tf.greater(target, 100.0), 100.0, target)\n",
    "    return target"
   ]
  },
  {
   "cell_type": "code",
   "execution_count": 5,
   "metadata": {},
   "outputs": [],
   "source": [
    "# 现在写的random_shuffle()函数，用来随机采样\n",
    "def shuffle_sample(tensor_list, tensor_size, sample_size):\n",
    "    sample_indices = tf.random_shuffle(tf.range(tensor_size))[:sample_size]\n",
    "    return [tf.gather(tensor, sample_indices) for tensor in tensor_list]"
   ]
  },
  {
   "cell_type": "code",
   "execution_count": 6,
   "metadata": {},
   "outputs": [],
   "source": [
    "def rpn_targets_graph(gt_boxes, gt_cls, anchors, rpn_train_anchors=None):\n",
    "    \"\"\"\n",
    "    处理单个图像的rpn分类和回归目标\n",
    "    a)正样本为 IoU>0.7的anchor;负样本为IoU<0.3的anchor; 居中的为中性样本，丢弃\n",
    "    b)需要保证所有的GT都有anchor对应，即使IoU<0.3；\n",
    "    c)正负样本比例保持1:1\n",
    "    :param gt_boxes: GT 边框坐标 [MAX_GT_BOXs, (y1,x1,y2,x2,tag)] ,tag=0 为padding\n",
    "    :param gt_cls: GT 类别 [MAX_GT_BOXs, 1+1] ;最后一位为tag, tag=0 为padding\n",
    "    :param anchors: [anchor_num, (y1,x1,y2,x2)]\n",
    "    :param rpn_train_anchors: 训练样本数(256)\n",
    "    :return:\n",
    "    deltas:[rpn_train_anchors,(dy,dx,dh,dw,tag)]：anchors边框回归目标,tag=1 为正样本，tag=0为padding，tag=-1为负样本\n",
    "    class_ids:[rpn_train_anchors,1+1]: anchors边框分类目标,tag=1 为正样本，tag=0为padding，tag=-1为负样本\n",
    "    indices:[rpn_train_anchors,(indices,tag)]: anchors的下标索引，tag=1 为正样本，tag=0为padding，tag=-1为负样本\n",
    "    \"\"\"\n",
    "    # 首先对gt做去除padding的处理\n",
    "    gt_boxes = padding_remove_tf(gt_boxes) # 返回2维\n",
    "    gt_cls = padding_remove_tf(gt_cls)[...,0] # 返回1维\n",
    "    \n",
    "    # 然后两两计算IOU\n",
    "    iou = iou_tf(gt_boxes, anchors)\n",
    "    \n",
    "    # 开始找正样本anchors\n",
    "    ## 第一类是找到每个gt对应iou值最大的anchor索引indice_1（不管iou的阈值情况）\n",
    "    gt_iou_argmax = tf.argmax(iou, axis=1)\n",
    "    positive_gt_indice_1 = tf.range(tf.shape(gt_boxes)[0]) # 所有gt\n",
    "    positive_anchor_indice_1 = gt_iou_argmax # 与各个gt有最大iou值的anchors作为正样本之一\n",
    "    \n",
    "    ## 第二类是找到每个anchor与其对应gt的最大iou值，并比较0.7的阈值情况，得到索引indice_2\n",
    "    anchor_iou_max = tf.reduce_max(iou, axis=0)\n",
    "    positive_anchor_indice_2 = tf.where(anchor_iou_max > 0.7, name='A')\n",
    "    anchor_iou_argmax = tf.argmax(iou, axis=0)\n",
    "    positive_gt_indice_2 = tf.gather_nd(anchor_iou_argmax, positive_anchor_indice_2)\n",
    "    \n",
    "    # 正样本索引的合并\n",
    "    positive_gt_indice = tf.concat([positive_gt_indice_1, tf.cast(positive_gt_indice_2, dtype=tf.int32)], axis=0, name='B')\n",
    "    positive_anchor_indice = tf.concat([positive_anchor_indice_1, positive_anchor_indice_2[...,0]], axis=0, name='C')\n",
    "    \n",
    "    # 正样本根据rpn_train_anchors参数进行随机采样\n",
    "    positive_num = tf.minimum(int(rpn_train_anchors * 0.5), int(tf.shape(positive_anchor_indice)[0]))\n",
    "    ## 正样本索引的随机采样\n",
    "    positive_gt_indice, positive_anchor_indice = shuffle_sample([positive_gt_indice, positive_anchor_indice],\n",
    "                                                                tf.shape(positive_anchor_indice)[0], \n",
    "                                                                positive_num)\n",
    "    \n",
    "    # 开始找负样本anchors\n",
    "    ## 负样本的确定，这里只需保证与正样本数1：1的关系\n",
    "    negative_indices = tf.where(anchor_iou_max < 0.3, name='D')\n",
    "    ## 负样本根据rpn_train_anchors参数进行随机采样\n",
    "    negative_num = tf.minimum(int(rpn_train_anchors * 0.5), tf.shape(positive_anchor_indice)[0])\n",
    "    ## 负样本索引的随机采样\n",
    "    negative_anchor_indices = tf.random_shuffle(negative_indices)[:negative_num] # 直接在所有anchors的indices序列上做负样本indices的shuffle\n",
    "    \n",
    "    # 正样本gather\n",
    "    positive_anchors = tf.gather(anchors, positive_anchor_indice)\n",
    "    positive_gt_boxes = tf.gather(gt_boxes, positive_gt_indice)\n",
    "    positive_gt_cls = tf.gather(gt_cls, positive_gt_indice)\n",
    "    ## 正样本anchors与正样本gt_boxes之间，回归目标deltas的计算\n",
    "    positive_deltas = regress_target_tf(positive_anchors, positive_gt_boxes)\n",
    "    \n",
    "    # 负样本gather\n",
    "    negative_anchors = tf.gather(anchors, negative_anchor_indices)\n",
    "    negative_gt_boxes = tf.zeros([negative_num, 4])\n",
    "    negative_gt_cls = tf.zeros([negative_num])\n",
    "    negative_deltas = tf.zeros([negative_num, 4])\n",
    "    \n",
    "    # 正负样本的最终合并\n",
    "    deltas = tf.concat([positive_deltas, negative_deltas], axis=0, name='E')\n",
    "    class_ids = tf.concat([positive_gt_cls, negative_gt_cls], axis=0, name='F')\n",
    "    indices = tf.concat([positive_anchor_indice, negative_indices[...,0]], axis=0, name='G')\n",
    "    \n",
    "#     # indices第2维度增加tag标志位，并将负样本的tag标志改为-1\n",
    "#     indices = tf_utils.pad_to_fixed_size_with_negative(tf.expand_dims(indices, 1), rpn_train_anchors,\n",
    "#                                                        negative_num=negative_num)\n",
    "    \n",
    "    return deltas, class_ids, indices"
   ]
  },
  {
   "cell_type": "markdown",
   "metadata": {},
   "source": [
    "上述RPN函数的样例测试："
   ]
  },
  {
   "cell_type": "code",
   "execution_count": 7,
   "metadata": {},
   "outputs": [
    {
     "name": "stdout",
     "output_type": "stream",
     "text": [
      "[[ 50.  30. 200. 280.]\n",
      " [280.  10. 370. 320.]]\n",
      "[1. 2.]\n"
     ]
    }
   ],
   "source": [
    "#===============================参数设置==========================================\n",
    "# 函数输出测试:1\n",
    "anchors = tf.constant(np.array([[78,22,253,304],[269,19,360,296]]), dtype=tf.float32)\n",
    "gt_boxes = tf.constant(np.array([[50,30,200,280,0],[280,10,370,320,0]]), dtype=tf.float32)\n",
    "gt_cls = tf.constant(np.array([[1,0],[2,0]]), dtype=tf.float32)\n",
    "rpn_train_anchors = 2\n",
    "gt_boxes = padding_remove_tf(gt_boxes) # 返回2维\n",
    "gt_cls = padding_remove_tf(gt_cls)[...,0] # 返回1维\n",
    "print(gt_boxes.eval(session=sess))\n",
    "print(gt_cls.eval(session=sess))"
   ]
  },
  {
   "cell_type": "code",
   "execution_count": 8,
   "metadata": {},
   "outputs": [
    {
     "name": "stdout",
     "output_type": "stream",
     "text": [
      "[[0.54126    0.        ]\n",
      " [0.         0.71606296]]\n"
     ]
    }
   ],
   "source": [
    "# 函数输出测试：2\n",
    "iou = iou_tf(gt_boxes, anchors)\n",
    "print(iou.eval(session=sess))"
   ]
  },
  {
   "cell_type": "code",
   "execution_count": 9,
   "metadata": {},
   "outputs": [
    {
     "name": "stdout",
     "output_type": "stream",
     "text": [
      "GT对应的anchors索引：[0 1]\n",
      "0.7的阈值条件对应的正anchors索引：[1]\n"
     ]
    }
   ],
   "source": [
    "# 函数输出测试：3\n",
    "# 找正样本anchors(阈值0.7)\n",
    "## 第一类是找到每个gt对应iou值最大的anchor索引indice_1（不管iou的阈值情况）\n",
    "gt_iou_argmax = tf.argmax(iou, axis=1)\n",
    "positive_gt_indice_1 = tf.range(tf.shape(gt_boxes)[0]) # 所有gt\n",
    "positive_anchor_indice_1 = gt_iou_argmax # 与各个gt有最大iou值的anchors作为正样本之一\n",
    "\n",
    "print(\"GT对应的anchors索引：{}\".format(positive_anchor_indice_1.eval(session=sess)))\n",
    "\n",
    "## 第二类是找到每个anchor与其对应gt的最大iou值，并比较0.7的阈值情况，得到索引indice_2\n",
    "anchor_iou_max = tf.reduce_max(iou, axis=0)\n",
    "positive_anchor_indice_2 = tf.where(anchor_iou_max > 0.7, name='A')\n",
    "anchor_iou_argmax = tf.argmax(iou, axis=0)\n",
    "positive_gt_indice_2 = tf.gather_nd(anchor_iou_argmax, positive_anchor_indice_2)\n",
    "\n",
    "print(\"0.7的阈值条件对应的正anchors索引：{}\".format(positive_anchor_indice_2[...,0].eval(session=sess)))\n",
    "\n",
    "# 正样本索引的合并\n",
    "positive_gt_indice = tf.concat([positive_gt_indice_1, tf.cast(positive_gt_indice_2, dtype=tf.int32)], axis=0, name='B')\n",
    "positive_anchor_indice = tf.concat([positive_anchor_indice_1, positive_anchor_indice_2[...,0]], axis=0, name='C')\n",
    "\n",
    "# 正样本根据rpn_train_anchors参数进行随机采样\n",
    "positive_num = tf.minimum(int(rpn_train_anchors * 0.5), tf.shape(positive_anchor_indice)[0])\n",
    "## 正样本索引的随机采样\n",
    "positive_gt_indice, positive_anchor_indice = shuffle_sample([positive_gt_indice, positive_anchor_indice],\n",
    "                                                            tf.shape(positive_anchor_indice)[0], \n",
    "                                                            positive_num)"
   ]
  },
  {
   "cell_type": "code",
   "execution_count": 10,
   "metadata": {},
   "outputs": [
    {
     "name": "stdout",
     "output_type": "stream",
     "text": [
      "0.6的阈值条件对应的负anchors索引：[0]\n"
     ]
    }
   ],
   "source": [
    "# 函数输出测试：4\n",
    "# 找负样本anchors(假设负样本阈值条件0.6)\n",
    "## 负样本的确定，这里只需保证与正样本数1：1的关系\n",
    "negative_indices = tf.where(anchor_iou_max < 0.6, name='D')\n",
    "## 负样本根据rpn_train_anchors参数进行随机采样\n",
    "negative_num = tf.minimum(int(rpn_train_anchors * 0.5), tf.shape(positive_anchor_indice)[0])\n",
    "## 负样本索引的随机采样\n",
    "negative_anchor_indices = tf.random_shuffle(negative_indices)[:negative_num] # 直接在所有anchors的indices序列上做负样本indices的shuffle\n",
    "print(\"0.6的阈值条件对应的负anchors索引：{}\".format(negative_anchor_indices[...,0].eval(session=sess)))"
   ]
  },
  {
   "cell_type": "code",
   "execution_count": 18,
   "metadata": {},
   "outputs": [
    {
     "name": "stdout",
     "output_type": "stream",
     "text": [
      "1个正样本anchor，一个负样本anchor的bbox回归目标：\n",
      "[[ 1.1538461   0.27075812 -0.05524918  0.562774  ]\n",
      " [ 0.          0.          0.          0.        ]]\n",
      "1个正样本anchor，一个负样本anchor的cls分类目标（注：负样本类别id为0）：\n",
      "[2. 0.]\n",
      "1个正样本anchor，一个负样本anchor的indices顺序：\n",
      "[1 0]\n"
     ]
    }
   ],
   "source": [
    "# 函数输出测试：5\n",
    "# 输出函数返回的所有rpn_train_anchors个anchors样本，以及其bbox回归目标、cls回归目标、indices\n",
    "# 正样本gather\n",
    "positive_anchors = tf.gather(anchors, positive_anchor_indice)\n",
    "positive_gt_boxes = tf.gather(gt_boxes, positive_gt_indice)\n",
    "positive_gt_cls = tf.gather(gt_cls, positive_gt_indice)\n",
    "## 正样本anchors与正样本gt_boxes之间，回归目标deltas的计算\n",
    "positive_deltas = regress_target_tf(positive_anchors, positive_gt_boxes)\n",
    "\n",
    "# 负样本gather\n",
    "negative_anchors = tf.gather(anchors, negative_anchor_indices)\n",
    "negative_gt_boxes = tf.zeros([negative_num, 4])\n",
    "negative_gt_cls = tf.zeros([negative_num])\n",
    "negative_deltas = tf.zeros([negative_num, 4])\n",
    "\n",
    "# 正负样本的最终合并\n",
    "deltas = tf.concat([positive_deltas, negative_deltas], axis=0, name='E')\n",
    "class_ids = tf.concat([positive_gt_cls, negative_gt_cls], axis=0, name='F')\n",
    "indices = tf.concat([positive_anchor_indice, negative_indices[...,0]], axis=0, name='G')\n",
    "\n",
    "print(\"1个正样本anchor，一个负样本anchor的bbox回归目标：\\n{}\".format(deltas.eval(session=sess)))\n",
    "print(\"1个正样本anchor，一个负样本anchor的cls分类目标（注：负样本类别id为0）：\\n{}\".format(class_ids.eval(session=sess)))\n",
    "print(\"1个正样本anchor，一个负样本anchor的indices顺序：\\n{}\".format(indices.eval(session=sess)))"
   ]
  },
  {
   "cell_type": "code",
   "execution_count": null,
   "metadata": {},
   "outputs": [],
   "source": [
    "neg_ti"
   ]
  },
  {
   "cell_type": "code",
   "execution_count": 12,
   "metadata": {},
   "outputs": [],
   "source": [
    "# 测试样例中一共只有2个anchors，2个GTs"
   ]
  },
  {
   "cell_type": "code",
   "execution_count": null,
   "metadata": {},
   "outputs": [],
   "source": [
    "# 问题：\n",
    "# 1）某个GT的最高IOU值anchor，当该IOU低于负样本的0.3阈值情况的时候，首先被划分为正样本，然后又被分为负样本。等于在正样本、负样本里同时出现。"
   ]
  }
 ],
 "metadata": {
  "kernelspec": {
   "display_name": "Python 3",
   "language": "python",
   "name": "python3"
  },
  "language_info": {
   "codemirror_mode": {
    "name": "ipython",
    "version": 3
   },
   "file_extension": ".py",
   "mimetype": "text/x-python",
   "name": "python",
   "nbconvert_exporter": "python",
   "pygments_lexer": "ipython3",
   "version": "3.6.4"
  }
 },
 "nbformat": 4,
 "nbformat_minor": 2
}
