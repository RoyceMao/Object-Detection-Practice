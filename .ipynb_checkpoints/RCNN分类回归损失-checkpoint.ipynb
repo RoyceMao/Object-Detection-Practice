{
 "cells": [
  {
   "cell_type": "code",
   "execution_count": 1,
   "metadata": {},
   "outputs": [
    {
     "name": "stderr",
     "output_type": "stream",
     "text": [
      "C:\\Users\\Royce\\Anaconda3\\lib\\site-packages\\h5py\\__init__.py:36: FutureWarning: Conversion of the second argument of issubdtype from `float` to `np.floating` is deprecated. In future, it will be treated as `np.float64 == np.dtype(float).type`.\n",
      "  from ._conv import register_converters as _register_converters\n"
     ]
    }
   ],
   "source": [
    "import tensorflow as tf\n",
    "import numpy as np\n",
    "sess = tf.Session()"
   ]
  },
  {
   "cell_type": "markdown",
   "metadata": {},
   "source": [
    "RCNN网络的分类loss"
   ]
  },
  {
   "cell_type": "code",
   "execution_count": 2,
   "metadata": {},
   "outputs": [],
   "source": [
    "# RCNN分类损失 \n",
    "def rcnn_cls_loss(predict_cls, true_cls):\n",
    "    \"\"\"\n",
    "    predict_cls：（batch_num, train_roi_per_image, class_num）         （生成的proposals都前向传播做分类预测）\n",
    "    true_cls：（batch_num, train_roi_per_image,(class_label, tags)）   （生成的rois只有部分目标真实值用来计算loss，区分具体类别）\n",
    "    因为两者维度一致，所以一般共用查询的indices\n",
    "    \"\"\"\n",
    "    # true_cls去除padding\n",
    "    train_indices = tf.where(tf.not_equal(true_cls[...,-1], 0)) # 分类loss筛除中性样本，保留正、负样本（2维）\n",
    "    true_cls = tf.gather_nd(true_cls[...,:-1], train_indices)\n",
    "    predict_cls = tf.gather_nd(predict_cls, train_indices)\n",
    "    # true_cls稀疏编码转one-hot\n",
    "    class_num = tf.shape(predict_cls)[1]\n",
    "    true_cls = tf.one_hot(true_cls, depth=class_num)\n",
    "    # 交叉熵损失\n",
    "    loss = tf.nn.softmax_cross_entropy_with_logits_v2(labels=true_cls, logits=predict_cls)\n",
    "    \n",
    "    return loss"
   ]
  },
  {
   "cell_type": "code",
   "execution_count": 3,
   "metadata": {},
   "outputs": [],
   "source": [
    "#=============假设部分参数值========================\n",
    "predict_cls = tf.constant(np.array([[[1,0],[0,1],[0,1]]]), dtype=tf.float32)\n",
    "true_cls = tf.constant(np.array([[[0,-1],[1,1],[1,1]]]), dtype=tf.uint8)\n",
    "# indices = tf.constant(np.array([[[0,-1],[1,1],[2,1]]]), dtype=tf.uint8)"
   ]
  },
  {
   "cell_type": "code",
   "execution_count": 4,
   "metadata": {},
   "outputs": [
    {
     "name": "stdout",
     "output_type": "stream",
     "text": [
      "前2个维度的索引参数一：\n",
      "[[0 0]\n",
      " [0 1]\n",
      " [0 2]]\n",
      "去除padding后的真实cls稀疏标签参数二：\n",
      "[[0]\n",
      " [1]\n",
      " [1]]\n",
      "去除padding后的预测cls热码标签参数三：\n",
      "[[1. 0.]\n",
      " [0. 1.]\n",
      " [0. 1.]]\n"
     ]
    }
   ],
   "source": [
    "# 函数测试：1\n",
    "## RCNN索引与编码\n",
    "train_indices = tf.where(tf.not_equal(true_cls[...,-1], 0)) # 返回2维tensor\n",
    "true_cls = tf.gather_nd(true_cls[...,:-1], train_indices) # 3维tensor确定1个维度，然后gather_nd选定索引2维tensor，最终返回（batch_num*rpn_train_anchors）的1维tensor\n",
    "predict_cls = tf.gather_nd(predict_cls, train_indices) # 同样也是返回长度为（batch_num*rpn_train_anchors）的1维cls\n",
    "print(\"前2个维度的索引参数一：\\n{}\".format(train_indices.eval(session=sess)))\n",
    "print(\"去除padding后的真实cls稀疏标签参数二：\\n{}\".format(true_cls.eval(session=sess)))\n",
    "print(\"去除padding后的预测cls热码标签参数三：\\n{}\".format(predict_cls.eval(session=sess)))"
   ]
  },
  {
   "cell_type": "code",
   "execution_count": 5,
   "metadata": {},
   "outputs": [
    {
     "name": "stdout",
     "output_type": "stream",
     "text": [
      "类别真实值“独热”编码：\n",
      "[[1. 0.]\n",
      " [0. 1.]\n",
      " [0. 1.]]\n"
     ]
    }
   ],
   "source": [
    "# 函数测试：2\n",
    "## 真实稀疏标签的one-hot编码\n",
    "class_num = tf.shape(predict_cls)[1]\n",
    "true_cls = tf.one_hot(true_cls[...,0], depth=class_num) # 2维稀疏编码转one-hot编码后，维度加1变为3维\n",
    "print(\"类别真实值“独热”编码：\\n{}\".format(true_cls.eval(session=sess)))"
   ]
  },
  {
   "cell_type": "code",
   "execution_count": 6,
   "metadata": {},
   "outputs": [
    {
     "name": "stdout",
     "output_type": "stream",
     "text": [
      "案例tensors的交叉熵loss情况：\n",
      "[0.31326166 0.31326166 0.31326166]\n"
     ]
    }
   ],
   "source": [
    "# 函数测试：3\n",
    "## RCNN分类loss\n",
    "loss = tf.nn.softmax_cross_entropy_with_logits_v2(labels=true_cls, logits=predict_cls)\n",
    "print(\"案例tensors的交叉熵loss情况：\\n{}\".format(loss.eval(session=sess)))"
   ]
  },
  {
   "cell_type": "markdown",
   "metadata": {},
   "source": [
    "RCNN网络的回归loss"
   ]
  },
  {
   "cell_type": "code",
   "execution_count": 7,
   "metadata": {},
   "outputs": [],
   "source": [
    "# 首先定义smooth_l1_loss的计算过程\n",
    "def smooth_l1_loss(y_true, y_predict):\n",
    "    \"\"\"\n",
    "    smooth L1损失函数；   0.5*x^2 if |x| <1 else |x|-0.5; x是 diff\n",
    "    :param y_true:[N,4]\n",
    "    :param y_predict:[N,4]\n",
    "    :return:\n",
    "    \"\"\"\n",
    "    # 误差绝对值\n",
    "    abs_diff =  tf.abs(y_true - y_predict, name='A')\n",
    "    # 根据abs_diff与数值1的关系，计算各个anchor的smooth_l1_loss，并赋值在指定索引\n",
    "    loss_all = tf.where(tf.less(abs_diff, 1), 0.5 * tf.pow(abs_diff, 2), tf.abs(abs_diff) - 0.5)\n",
    "    # 一个batch共N个anchors的综合smooth_l1_loss\n",
    "    loss = tf.reduce_mean(loss_all, axis=1)\n",
    "    return loss"
   ]
  },
  {
   "cell_type": "code",
   "execution_count": 8,
   "metadata": {},
   "outputs": [],
   "source": [
    "# 类别相关的回归损失\n",
    "## 找对应的预测目标时，由于predict_deltas类别相关，需要3维索引来gather_nd\n",
    "def rcnn_regress_loss(predict_deltas, true_deltas, class_ids):\n",
    "    \"\"\"\n",
    "    predict_deltas：（batch_num, train_roi_per_image, class_num, (dy,dx,dw,dh)）\n",
    "    true_deltas：（batch_num, train_roi_per_image, (dy,dx,dw,dh,tags)）\n",
    "    class_ids：（batch_num, train_roi_per_image, (class_id, tags)）\n",
    "    \"\"\"\n",
    "    # true_deltas与class_ids去除padding\n",
    "    regress_indices = tf.where(tf.equal(true_deltas[...,-1], 1)) # 回归loss筛除中性样本、负样本，只保留正样本做回归（2维）\n",
    "    true_deltas = tf.gather_nd(true_deltas[...,:-1], regress_indices)\n",
    "    class_ids = tf.gather_nd(class_ids[...,:-1], regress_indices)\n",
    "    # 类别相关的索引拼接\n",
    "    cls_relate_indices = tf.concat([regress_indices, tf.cast(class_ids, tf.int64)], axis=1)\n",
    "    # 根据三维索引，从predict_deltas中找到相关的预测回归目标\n",
    "    predict_deltas = tf.gather_nd(predict_deltas, cls_relate_indices)\n",
    "    \n",
    "    # smoooth_l1 loss相关\n",
    "    import keras.backend as K\n",
    "    loss = K.switch(tf.size(true_deltas) > 0,\n",
    "                    smooth_l1_loss(true_deltas, predict_deltas),\n",
    "                    tf.constant(0.0))\n",
    "    loss = K.mean(loss)\n",
    "    \n",
    "    return loss"
   ]
  },
  {
   "cell_type": "code",
   "execution_count": 9,
   "metadata": {},
   "outputs": [],
   "source": [
    "#=============假设部分参数值========================\n",
    "## 这里class_num=2说明只有背景类在内的2类，因为是类别相关，假设的参数中背景类的deltas预测结果这里全补0\n",
    "predict_deltas = tf.constant(np.array([[[[0,0,0,0],[78,22,253,304]],[[0,0,0,0],[269,19,360,296]]]]), dtype=tf.float32) # 4维（1，2，2，(dy,dx,dw,dh)）\n",
    "## 本来应该有4个真实回归目标，因为类别相关情况下，真正的正样本只有2个，所以这里只有2个真实回归目标\n",
    "true_deltas = tf.constant(np.array([[[50,30,200,280,1],[280,10,370,320,1]]]), dtype=tf.float32) # （1，2，(dy,dx,dw,dh)）\n",
    "## 真实回归目标对应的真实类别标签\n",
    "class_ids = tf.constant(np.array([[[1,1],[1,1]]]), dtype=tf.int64) # 两个正样本proposals"
   ]
  },
  {
   "cell_type": "code",
   "execution_count": 10,
   "metadata": {},
   "outputs": [
    {
     "name": "stdout",
     "output_type": "stream",
     "text": [
      "拼接的indice矩阵维度为：\n",
      "[2 3]\n",
      "案例tensors的回归目标真实值情况：\n",
      "[[ 50.  30. 200. 280.]\n",
      " [280.  10. 370. 320.]]\n",
      "案例tensors的回归目标预测值情况：\n",
      "[[ 78.  22. 253. 304.]\n",
      " [269.  19. 360. 296.]]\n"
     ]
    }
   ],
   "source": [
    "# 函数测试：1\n",
    "## RCNN索引拼接与gather\n",
    "regress_indices = tf.where(tf.equal(true_deltas[...,-1], 1)) # 回归loss筛除中性样本、负样本，只保留正样本做回归（2维）\n",
    "print(\"索引的indice矩阵维度为：\\n{}\".format(tf.shape(regress_indices).eval(session=sess)))\n",
    "true_deltas = tf.gather_nd(true_deltas[...,:-1], regress_indices)\n",
    "class_ids = tf.gather_nd(class_ids[...,:-1], regress_indices)\n",
    "print(\"类别的indice矩阵维度为：\\n{}\".format(tf.shape(class_ids).eval(session=sess)))\n",
    "# 类别相关的索引拼接\n",
    "cls_relate_indices = tf.concat([regress_indices, tf.cast(class_ids, tf.int64)], axis=1)\n",
    "print(\"拼接的indice矩阵维度为：\\n{}\".format(tf.shape(cls_relate_indices).eval(session=sess)))\n",
    "# 计算loss的预测回归目标\n",
    "predict_deltas = tf.gather_nd(predict_deltas, cls_relate_indices)\n",
    "print(\"案例tensors的回归目标真实值情况：\\n{}\".format(true_deltas.eval(session=sess)))\n",
    "print(\"案例tensors的回归目标预测值情况：\\n{}\".format(predict_deltas.eval(session=sess)))"
   ]
  },
  {
   "cell_type": "code",
   "execution_count": 11,
   "metadata": {},
   "outputs": [
    {
     "name": "stderr",
     "output_type": "stream",
     "text": [
      "Using TensorFlow backend.\n"
     ]
    },
    {
     "name": "stdout",
     "output_type": "stream",
     "text": [
      "WARNING:tensorflow:From C:\\Users\\Royce\\Anaconda3\\lib\\site-packages\\keras\\backend\\tensorflow_backend.py:1153: calling reduce_mean (from tensorflow.python.ops.math_ops) with keep_dims is deprecated and will be removed in a future version.\n",
      "Instructions for updating:\n",
      "keep_dims is deprecated, use keepdims instead\n",
      "案例tensors的smooth_l1_loss情况：\n",
      "20.375\n"
     ]
    }
   ],
   "source": [
    "# 函数测试：2\n",
    "## RCNN回归loss(smoooth_l1 loss相关)\n",
    "import keras.backend as K\n",
    "loss = K.switch(tf.size(true_deltas) > 0,\n",
    "                smooth_l1_loss(true_deltas, predict_deltas),\n",
    "                tf.constant(0.0))\n",
    "loss = K.mean(loss)\n",
    "print(\"案例tensors的smooth_l1_loss情况：\\n{}\".format(loss.eval(session=sess)))"
   ]
  },
  {
   "cell_type": "code",
   "execution_count": null,
   "metadata": {},
   "outputs": [],
   "source": []
  }
 ],
 "metadata": {
  "kernelspec": {
   "display_name": "Python 3",
   "language": "python",
   "name": "python3"
  },
  "language_info": {
   "codemirror_mode": {
    "name": "ipython",
    "version": 3
   },
   "file_extension": ".py",
   "mimetype": "text/x-python",
   "name": "python",
   "nbconvert_exporter": "python",
   "pygments_lexer": "ipython3",
   "version": "3.6.4"
  }
 },
 "nbformat": 4,
 "nbformat_minor": 2
}
